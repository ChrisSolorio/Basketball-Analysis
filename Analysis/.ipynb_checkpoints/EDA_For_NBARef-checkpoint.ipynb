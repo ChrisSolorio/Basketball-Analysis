{
 "cells": [
  {
   "cell_type": "code",
   "execution_count": 1,
   "metadata": {},
   "outputs": [],
   "source": [
    "import pandas as pd\n",
    "import matplotlib.pyplot as plt\n",
    "import numpy as np\n",
    "import seaborn as sns\n",
    "from matplotlib.pyplot import figure\n",
    "import plotly.express as px"
   ]
  },
  {
   "cell_type": "markdown",
   "metadata": {},
   "source": [
    "### Cleaning Data\n",
    "Now that we have our datasets we want to concatenate them into one table that shows the entire NBA statistics from 1995 to 2020 (ongoing), remove nan fields, rename columns, and. The key difference between this and the Kaggle dataset is the addition of Offensive BPM (Box Plus/Minus), defensive BPM, BPM and VORP (Value over Replacement Player)\n",
    "\n",
    "We will clean this dataset"
   ]
  },
  {
   "cell_type": "code",
   "execution_count": 2,
   "metadata": {},
   "outputs": [
    {
     "ename": "SyntaxError",
     "evalue": "invalid syntax (<ipython-input-2-7a0e300528a0>, line 1)",
     "output_type": "error",
     "traceback": [
      "\u001b[1;36m  File \u001b[1;32m\"<ipython-input-2-7a0e300528a0>\"\u001b[1;36m, line \u001b[1;32m1\u001b[0m\n\u001b[1;33m    df = pd.read_csv(/data/\"1995ref.csv\")\u001b[0m\n\u001b[1;37m                     ^\u001b[0m\n\u001b[1;31mSyntaxError\u001b[0m\u001b[1;31m:\u001b[0m invalid syntax\n"
     ]
    }
   ],
   "source": [
    "df = pd.read_csv(/data/\"1995ref.csv\")\n",
    "for i in range (0,25):\n",
    "    name =i+1996\n",
    "    file = (str(name)+\"ref.csv\")\n",
    "    df1  = pd.read_csv(file)\n",
    "    frame = [df,df1]\n",
    "    df = pd.concat(frame)"
   ]
  },
  {
   "cell_type": "code",
   "execution_count": null,
   "metadata": {},
   "outputs": [],
   "source": [
    "df.head(15000)"
   ]
  },
  {
   "cell_type": "code",
   "execution_count": null,
   "metadata": {},
   "outputs": [],
   "source": [
    "df = df[df['player'].notna()]\n",
    "df.fillna(0)"
   ]
  },
  {
   "cell_type": "markdown",
   "metadata": {},
   "source": [
    "### EDA\n",
    "First, let's try and analyze the best players based on true shooting percentage"
   ]
  },
  {
   "cell_type": "code",
   "execution_count": null,
   "metadata": {},
   "outputs": [],
   "source": [
    "ten = df[df['year'] > 2005]\n",
    "ten = ten[ten['year'] < 2020]"
   ]
  },
  {
   "cell_type": "code",
   "execution_count": null,
   "metadata": {},
   "outputs": [],
   "source": [
    "plt.figure(figsize=(10,16))\n",
    "plt.scatter(df['mp'], df['ts_pct'], s=20, c=df['year'])\n",
    "plt.show()"
   ]
  },
  {
   "cell_type": "markdown",
   "metadata": {},
   "source": [
    "### Problem!\n",
    "Some players appear to be above 1.0, unless they're really good it could be because of some other error. So lets print those players out and see if we can find something that gives them a high shooting percentage"
   ]
  },
  {
   "cell_type": "code",
   "execution_count": null,
   "metadata": {},
   "outputs": [],
   "source": [
    "topshoot = df[df['ts_pct'] > 1]"
   ]
  },
  {
   "cell_type": "code",
   "execution_count": null,
   "metadata": {},
   "outputs": [],
   "source": [
    "topshoot.head(20)"
   ]
  },
  {
   "cell_type": "markdown",
   "metadata": {},
   "source": [
    "Players appear to have few matches played so lets make a new table where we remove players with less than 10 matches or 500 minutes (average nba match is 48 minutes)"
   ]
  },
  {
   "cell_type": "code",
   "execution_count": null,
   "metadata": {},
   "outputs": [],
   "source": [
    "activePlayer= df[df['mp'] > 500]\n",
    "activePlayer = activePlayer[activePlayer['year'] < 2020]\n",
    "#Now graph again"
   ]
  },
  {
   "cell_type": "code",
   "execution_count": null,
   "metadata": {},
   "outputs": [],
   "source": [
    "plt.figure(figsize=(10,16))\n",
    "plt.scatter(activePlayer['mp'], activePlayer['ts_pct'], s=20, c=activePlayer['year'])\n",
    "plt.show()"
   ]
  },
  {
   "cell_type": "markdown",
   "metadata": {},
   "source": [
    "### Lets make a scatter plot examing relations of BPM and minutes played\n"
   ]
  },
  {
   "cell_type": "code",
   "execution_count": null,
   "metadata": {},
   "outputs": [],
   "source": [
    "plt.figure(figsize=(10,16))\n",
    "plt.scatter(activePlayer['mp'], activePlayer['bpm'], s=20, c=activePlayer['year'])\n",
    "plt.show()"
   ]
  },
  {
   "cell_type": "code",
   "execution_count": null,
   "metadata": {},
   "outputs": [],
   "source": [
    "activePlayer.boxplot(by ='year', column =['ts_pct'], grid = False, figsize=(12,18) ) "
   ]
  },
  {
   "cell_type": "code",
   "execution_count": null,
   "metadata": {},
   "outputs": [],
   "source": [
    "activePlayer['bpm'].hist(by=activePlayer['year'], figsize = (18,20))"
   ]
  },
  {
   "cell_type": "markdown",
   "metadata": {},
   "source": [
    "## Top Players from 2019 - 2010\n",
    "We will use a parallel coordinate graph"
   ]
  },
  {
   "cell_type": "code",
   "execution_count": null,
   "metadata": {},
   "outputs": [],
   "source": [
    "graphit = activePlayer[activePlayer['bpm'] > 3.5]\n",
    "graphit = graphit[graphit['year'] > 2010]\n",
    "\n",
    "\n",
    "\n",
    "graphit.drop(graphit.columns.difference(['year','per','ts_pct','obpm','dbpm','bpm','vorp']), 1, inplace=True)\n",
    "\n",
    "fig = px.parallel_coordinates(graphit, color=\"year\", labels={\"year\": \"Year\",\n",
    "               \"per\": \"Player Efficiency Rating\", \"ts_pct\": \"Shooting %\",\n",
    "                \"obpm\": \"OBPM\", \"dbpm\": \"DBPM\",\"bpm\":\"BPM\",\"vorp\":\"VORP\",},\n",
    "                             color_continuous_scale=px.colors.diverging.Tealrose,\n",
    "                             color_continuous_midpoint=2)\n",
    "fig.show()"
   ]
  },
  {
   "cell_type": "markdown",
   "metadata": {},
   "source": [
    "## Findings from graph\n",
    "There is too much data to make sense of what's going on. This could be better explored in the next part, but for now the biggest failing is how hard it is to color the lines..."
   ]
  },
  {
   "cell_type": "code",
   "execution_count": null,
   "metadata": {},
   "outputs": [],
   "source": []
  }
 ],
 "metadata": {
  "kernelspec": {
   "display_name": "Python 3",
   "language": "python",
   "name": "python3"
  },
  "language_info": {
   "codemirror_mode": {
    "name": "ipython",
    "version": 3
   },
   "file_extension": ".py",
   "mimetype": "text/x-python",
   "name": "python",
   "nbconvert_exporter": "python",
   "pygments_lexer": "ipython3",
   "version": "3.7.6"
  }
 },
 "nbformat": 4,
 "nbformat_minor": 4
}
